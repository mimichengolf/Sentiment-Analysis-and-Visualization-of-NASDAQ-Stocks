{
 "cells": [
  {
   "cell_type": "code",
   "execution_count": 84,
   "id": "7b1e9eb0",
   "metadata": {},
   "outputs": [
    {
     "name": "stderr",
     "output_type": "stream",
     "text": [
      "[nltk_data] Downloading package vader_lexicon to\n",
      "[nltk_data]     /Users/mimichen/nltk_data...\n",
      "[nltk_data]   Package vader_lexicon is already up-to-date!\n"
     ]
    }
   ],
   "source": [
    "from urllib.request import urlopen, Request\n",
    "from bs4 import BeautifulSoup\n",
    "import pandas as pd\n",
    "import requests\n",
    "import matplotlib.pyplot as plt\n",
    "import nltk\n",
    "nltk.download('vader_lexicon')\n",
    "from nltk.sentiment.vader import SentimentIntensityAnalyzer\n"
   ]
  },
  {
   "cell_type": "markdown",
   "id": "a4b6aea0",
   "metadata": {},
   "source": [
    "Importing urls and webscraping wikipedia for table containing all NASDAQ"
   ]
  },
  {
   "cell_type": "code",
   "execution_count": 85,
   "id": "6351828a",
   "metadata": {},
   "outputs": [],
   "source": [
    "finviz_url = \"https://finviz.com/quote.ashx?t=\"\n",
    "wiki_url = \"https://en.wikipedia.org/wiki/Nasdaq-100\"\n",
    "table_class = \"wikitable sortable jquery-tablesorter\"\n",
    "wiki_response = requests.get(wiki_url)\n",
    "soup = BeautifulSoup(wiki_response.text, 'html.parser')\n",
    "#inspect elements to find name of specific table\n",
    "table_id = \"constituents\"\n",
    "nqtable = soup.find('table', attrs={\"id\": table_id})\n",
    "# reading the html table into a list of dataframe object, convert to dataframe\n",
    "nq_df = pd.read_html(str(nqtable))\n",
    "nq_df = pd.DataFrame(nq_df[0])\n",
    "\n",
    "# all the NASDAQ tickers are appended to a list\n",
    "t = sp_df[\"Ticker\"].tolist()"
   ]
  },
  {
   "cell_type": "code",
   "execution_count": 86,
   "id": "58fd33be-cbb6-4601-8762-dbf002375657",
   "metadata": {},
   "outputs": [],
   "source": [
    "# for the purpose of this project, I will only use the top 3 FAANG stocks to watch for 2022 (via nasdaq.com).\n",
    "tickers = [t[t.index(\"GOOGL\")], t[t.index(\"NFLX\")], t[t.index(\"FB\")]]"
   ]
  },
  {
   "cell_type": "code",
   "execution_count": 87,
   "id": "bae24c31",
   "metadata": {},
   "outputs": [],
   "source": [
    "# news data dictionary\n",
    "news_tables = {}\n",
    "for ticker in tickers:\n",
    "    url = finviz_url + ticker\n",
    "    req = Request(url=url,headers={\"user-agent\": \"my-app\"})\n",
    "    response = urlopen(req)\n",
    "    html = BeautifulSoup(response,\"html\")\n",
    "    news_table = html.find(id=\"news-table\")\n",
    "    news_tables[ticker] = news_table"
   ]
  },
  {
   "cell_type": "code",
   "execution_count": 88,
   "id": "0f78b8d9",
   "metadata": {},
   "outputs": [],
   "source": [
    "parsed_data = []\n",
    "for ticker, news_table in news_tables.items():\n",
    "    for row in news_table.findAll(\"tr\"):\n",
    "        #scraping for title and time stamp\n",
    "        title = row.a.get_text() # look for the anchor tag inside of table row \n",
    "        timestamp = row.td.text.split(\" \")\n",
    "        # if the text only has one value, then it is the timestamp. otherwise it is the date and time\n",
    "        if len(timestamp) == 1:\n",
    "            time = timestamp[0]\n",
    "        else: \n",
    "            day = timestamp[0]\n",
    "            time = timestamp[1]\n",
    "        parsed_data.append([ticker,day,time,title])"
   ]
  },
  {
   "cell_type": "code",
   "execution_count": 89,
   "id": "8856c222",
   "metadata": {},
   "outputs": [],
   "source": [
    "df = pd.DataFrame(parsed_data, columns=[\"ticker\",\"date\",\"time\",\"title\"])\n",
    "vader = SentimentIntensityAnalyzer()\n",
    "func = lambda title: vader.polarity_scores(title)[\"compound\"]\n",
    "df[\"compound\"] = df[\"title\"].apply(func)"
   ]
  },
  {
   "cell_type": "markdown",
   "id": "8212b963",
   "metadata": {},
   "source": [
    "Group tickers by date and time, and get an average of the compounds scores for each ticker by day to determine if it was a positive or negative day for each individual stock"
   ]
  },
  {
   "cell_type": "code",
   "execution_count": 95,
   "id": "3c286382",
   "metadata": {},
   "outputs": [
    {
     "data": {
      "image/png": "[encoded data removed]",
      "text/plain": [
       "<Figure size 432x288 with 1 Axes>"
      ]
     },
     "metadata": {
      "needs_background": "light"
     },
     "output_type": "display_data"
    }
   ],
   "source": [
    "df[\"date\"] = pd.to_datetime(df.date).dt.date\n",
    "mean = df.groupby([\"ticker\",\"date\"]).mean()\n",
    "\n",
    "#unstack data \n",
    "mean = mean.unstack()\n",
    "mean = mean.xs(\"compound\", axis=\"columns\").transpose()\n",
    "mean.plot(kind=\"bar\")\n",
    "plt.show()"
   ]
  }
 ],
 "metadata": {
  "kernelspec": {
   "display_name": "Python 3 (ipykernel)",
   "language": "python",
   "name": "python3"
  },
  "language_info": {
   "codemirror_mode": {
    "name": "ipython",
    "version": 3
   },
   "file_extension": ".py",
   "mimetype": "text/x-python",
   "name": "python",
   "nbconvert_exporter": "python",
   "pygments_lexer": "ipython3",
   "version": "3.9.7"
  }
 },
 "nbformat": 4,
 "nbformat_minor": 5
}
